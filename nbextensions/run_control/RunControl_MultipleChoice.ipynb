{
 "cells": [
  {
   "cell_type": "markdown",
   "metadata": {},
   "source": [
    "# Run Control\n",
    "\n",
    "The visibility and behavior of cells can be customized with run control options in the cells metadata.\n",
    "\n",
    "The keywords are:\n",
    "\n",
    "- ```frozen```: Code cells can't be executed and markdown cells can't be switched to edit mode.\n",
    "- ```init_cell```: Cells will be executed when the notebook is loaded or when the notebook is reloaded. Basically everytime the kernel is ready. All markdown cells are init cells by default (no need to specify it).\n",
    "- ```hide_input```: Applies only to code cells. The editor window of the code cell will be hidden and only the output is visible.\n",
    "- ```hide_cell```: Will hide the complete cell. Makes sense to use for invisible initialization cells\n",
    "\n",
    "Each keyword can have the values ```true``` or ```false```"
   ]
  },
  {
   "cell_type": "markdown",
   "metadata": {
    "run_control": {
     "frozen": true
    }
   },
   "source": [
    "## Frozen Markdown Cells\n",
    "\n",
    "If a markdown cell is frozen, it will not be editable and never switch back to edit mode.\n",
    "\n",
    "Put this in the metadata:\n",
    "```\n",
    "{\n",
    "  \"run_control\": {\n",
    "    \"frozen\": true\n",
    "  }\n",
    "}\n",
    "```\n",
    "\n",
    "Try switching this cell to the edit view!"
   ]
  },
  {
   "cell_type": "markdown",
   "metadata": {},
   "source": [
    "## Frozen Code Cells\n",
    "\n",
    "If a code cell is frozen, it will not be executable.\n",
    "\n",
    "Put this in the metadata:\n",
    "```\n",
    "{\n",
    "  \"run_control\": {\n",
    "    \"frozen\": true\n",
    "  }\n",
    "}\n",
    "```\n",
    "\n",
    "The next cell is frozen, so feel free to try to run it."
   ]
  },
  {
   "cell_type": "code",
   "execution_count": null,
   "metadata": {
    "run_control": {
     "frozen": true
    }
   },
   "outputs": [],
   "source": [
    "# This is a frozen code cell\n",
    "\n",
    "print('You won\\'t see the output of this!')"
   ]
  },
  {
   "cell_type": "markdown",
   "metadata": {},
   "source": [
    "## Initialization cells\n",
    "\n",
    "If a code cell is an ```init_cell```, it will be run whenever the kernel is ready or loaded.\n",
    "\n",
    "Notice that you can't make a cell frozen and use it as an initialization cell since it can't be executed then.\n",
    "\n",
    "Put this in the metadata:\n",
    "\n",
    "```\n",
    "{\n",
    "  \"run_control\": {\n",
    "    \"init_cell\": true\n",
    "  }\n",
    "}\n",
    "```\n",
    "\n",
    "The next cell is an initialization cell."
   ]
  },
  {
   "cell_type": "code",
   "execution_count": 9,
   "metadata": {
    "run_control": {
     "init_cell": true
    }
   },
   "outputs": [
    {
     "name": "stdout",
     "output_type": "stream",
     "text": [
      "I have been initialized!\n"
     ]
    }
   ],
   "source": [
    "# This is an init_cell\n",
    "\n",
    "def sayHi():\n",
    "    print('Hi there')\n",
    "    \n",
    "print('I have been initialized!')"
   ]
  },
  {
   "cell_type": "code",
   "execution_count": null,
   "metadata": {},
   "outputs": [],
   "source": [
    "# Try executing this cell before the one above\n",
    "\n",
    "sayHi()"
   ]
  },
  {
   "cell_type": "markdown",
   "metadata": {},
   "source": [
    "## Hidden cells\n",
    "\n",
    "There are two types of hidden cells. The first type applies only to code cells and will hide the edit window.\n",
    "\n",
    "Put this in the metadata:\n",
    "\n",
    "```\n",
    "{\n",
    "  \"run_control\": {\n",
    "    \"hide_input\": true\n",
    "  }\n",
    "}\n",
    "``` \n",
    "\n",
    "The second type applies to all cells and will hide them completely. Be aware that after you edit the metadata and reload, there is no way for you to access this cell anymore.\n",
    "\n",
    "Put this in the metadata:\n",
    "\n",
    "```\n",
    "{\n",
    "  \"run_control\": {\n",
    "    \"hide_cell\": true\n",
    "  }\n",
    "}\n",
    "``` \n",
    "\n",
    "The next cell will be an initialization cell that has a hidden input. Notice how you just see the output of the cell."
   ]
  },
  {
   "cell_type": "code",
   "execution_count": 10,
   "metadata": {
    "run_control": {
     "hide_input": true,
     "init_cell": true
    }
   },
   "outputs": [
    {
     "name": "stdout",
     "output_type": "stream",
     "text": [
      "I am an initialization cell. At the same time my input is hidden.\n",
      "Here is a plot.\n"
     ]
    },
    {
     "data": {
      "image/png": "[encoded data removed]",
      "text/plain": [
       "<Figure size 432x288 with 1 Axes>"
      ]
     },
     "metadata": {
      "needs_background": "light"
     },
     "output_type": "display_data"
    },
    {
     "data": {
      "text/plain": [
       "<Figure size 432x288 with 0 Axes>"
      ]
     },
     "metadata": {},
     "output_type": "display_data"
    }
   ],
   "source": [
    "import matplotlib.pyplot as plt\n",
    "\n",
    "print('I am an initialization cell. At the same time my input is hidden.')\n",
    "\n",
    "print('Here is a plot.')\n",
    "\n",
    "plt.scatter(range(10), range(10))\n",
    "\n",
    "plt.figure()\n",
    "plt.show()"
   ]
  },
  {
   "cell_type": "markdown",
   "metadata": {},
   "source": [
    "# Multiple Choice Markdown Cells\n",
    "\n",
    "A multiple choice cell can be written in markdown. For this the extension searches for all lines beginning with a ```-``` and extracts the options from there. Selected options will be stored in the metadata variable ```choice``` for single answer cells and ```choices``` for multiple answers.\n",
    "\n",
    "Note: If you save the notebook and reload, the selected options will be there again.\n",
    "\n",
    "A markdown cell can be converted to multiple choice by putting the following in the metadata:\n",
    "\n",
    "```\n",
    "{\n",
    "  \"egrader\": {\n",
    "    \"mc_options\": \"multiselect\",\n",
    "    \"type\": \"multiple_choice\"\n",
    "  }\n",
    "}\n",
    "```\n",
    "\n",
    "The ```type``` tells the extension that this is a multiple choice cell.\n",
    "\n",
    "The ```mc_options``` can be set to ```multiselect``` if multiple answers are allowed. Any other value for this (or a missing value) will be a multiple choice cell with a single answer"
   ]
  },
  {
   "cell_type": "markdown",
   "metadata": {
    "choice": " Pony",
    "egrader": {
     "type": "multiple_choice"
    }
   },
   "source": [
    "### Example of a multiple choice cell (single answer)\n",
    "\n",
    "This is an example of a multiple choice cell with a single answer.\n",
    "\n",
    "Please select your favorite animal from the options:\n",
    "\n",
    "- Dog\n",
    "- Cat\n",
    "- Pony\n",
    "- Snake\n",
    "- Bunny"
   ]
  },
  {
   "cell_type": "markdown",
   "metadata": {
    "choices": [
     " Cat",
     " Snake"
    ],
    "egrader": {
     "mc_options": "multiselect",
     "type": "multiple_choice"
    }
   },
   "source": [
    "### Example of a multiple choice cell (multiple answer)\n",
    "\n",
    "This is an example of a multiple choice cell with multiple answers.\n",
    "\n",
    "Its hard to pick just one favorite animal so feel free to select as many as you want:\n",
    "\n",
    "- Dog\n",
    "- Cat\n",
    "- Pony\n",
    "- Snake\n",
    "- Bunny"
   ]
  }
 ],
 "metadata": {
  "celltoolbar": "Edit Metadata",
  "kernelspec": {
   "display_name": "Python 3",
   "language": "python",
   "name": "python3"
  },
  "language_info": {
   "codemirror_mode": {
    "name": "ipython",
    "version": 3
   },
   "file_extension": ".py",
   "mimetype": "text/x-python",
   "name": "python",
   "nbconvert_exporter": "python",
   "pygments_lexer": "ipython3",
   "version": "3.7.3"
  }
 },
 "nbformat": 4,
 "nbformat_minor": 2
}
